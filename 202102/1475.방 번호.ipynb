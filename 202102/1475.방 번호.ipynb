{
 "cells": [
  {
   "cell_type": "markdown",
   "metadata": {},
   "source": [
    "## 1475번 방번호\n",
    "### 문제  \n",
    "다솜이는 은진이의 옆집에 새로 이사왔다. 다솜이는 자기 방 번호를 예쁜 플라스틱 숫자로 문에 붙이려고 한다.\n",
    "\n",
    "다솜이의 옆집에서는 플라스틱 숫자를 한 세트로 판다. 한 세트에는 0번부터 9번까지 숫자가 하나씩 들어있다. 다솜이의 방 번호가 주어졌을 때, 필요한 세트의 개수의 최솟값을 출력하시오. (6은 9를 뒤집어서 이용할 수 있고, 9는 6을 뒤집어서 이용할 수 있다.)  \n",
    "### 입력\n",
    "첫째 줄에 다솜이의 방 번호 N이 주어진다. N은 1,000,000보다 작거나 같은 자연수 또는 0이다.\n",
    "### 출력\n",
    "\n",
    "첫째 줄에 필요한 세트의 개수를 출력한다.\n",
    "### 예제 입력\n",
    "\n",
    "9999\n",
    "### 예제 출력\n",
    "\n",
    "2"
   ]
  },
  {
   "cell_type": "code",
   "execution_count": null,
   "metadata": {},
   "outputs": [],
   "source": [
    "import collections, math\n",
    "data = list(map(int, list(str(input()))))\n",
    "\n",
    "\n",
    "data_list = collections.Counter(data)\n",
    "\n",
    "to_ans = [[] for i in range(len(data_list))]\n",
    "\n",
    "temp = 0\n",
    "for_69 = 0\n",
    "for key, value in data_list.items():\n",
    "    if (key == 6) or (key == 9):\n",
    "        for_69 += value\n",
    "    else :\n",
    "        if value > temp:\n",
    "            temp = value\n",
    "\n",
    "if temp <  math.ceil(for_69/2) :\n",
    "    temp = math.ceil(for_69/2)\n",
    "    \n",
    "print(temp)"
   ]
  }
 ],
 "metadata": {
  "kernelspec": {
   "display_name": "Python 3",
   "language": "python",
   "name": "python3"
  },
  "language_info": {
   "codemirror_mode": {
    "name": "ipython",
    "version": 3
   },
   "file_extension": ".py",
   "mimetype": "text/x-python",
   "name": "python",
   "nbconvert_exporter": "python",
   "pygments_lexer": "ipython3",
   "version": "3.8.3"
  }
 },
 "nbformat": 4,
 "nbformat_minor": 4
}
