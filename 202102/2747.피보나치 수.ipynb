{
 "cells": [
  {
   "cell_type": "markdown",
   "metadata": {},
   "source": [
    "## 2747번 피보나치 수 \n",
    "### 문제\n",
    "피보나치 수는 0과 1로 시작한다. 0번째 피보나치 수는 0이고, 1번째 피보나치 수는 1이다. 그 다음 2번째 부터는 바로 앞 두 피보나치 수의 합이 된다.\n",
    "\n",
    "이를 식으로 써보면 Fn = Fn-1 + Fn-2 (n ≥ 2)가 된다.\n",
    "\n",
    "n=17일때 까지 피보나치 수를 써보면 다음과 같다.\n",
    "\n",
    "0, 1, 1, 2, 3, 5, 8, 13, 21, 34, 55, 89, 144, 233, 377, 610, 987, 1597\n",
    "\n",
    "n이 주어졌을 때, n번째 피보나치 수를 구하는 프로그램을 작성하시오.\n",
    "### 입력\n",
    "첫째 줄에 n이 주어진다. n은 45보다 작거나 같은 자연수이다.\n",
    "### 출력\n",
    "첫째 줄에 n번째 피보나치 수를 출력한다.\n",
    "### 예제 입력\n",
    "10\n",
    "### 예제 출력\n",
    "55"
   ]
  },
  {
   "cell_type": "code",
   "execution_count": null,
   "metadata": {},
   "outputs": [],
   "source": [
    "fibo = int(input())\n",
    "\n",
    "fibo_list = [0]*(fibo+1)\n",
    "fibo_list[1] = 1\n",
    "\n",
    "for i in range(len(fibo_list)-2):\n",
    "    fibo_list[i+2] = fibo_list[i+1] + fibo_list[i]\n",
    "    \n",
    "print(fibo_list[-1])"
   ]
  }
 ],
 "metadata": {
  "kernelspec": {
   "display_name": "Python 3",
   "language": "python",
   "name": "python3"
  },
  "language_info": {
   "codemirror_mode": {
    "name": "ipython",
    "version": 3
   },
   "file_extension": ".py",
   "mimetype": "text/x-python",
   "name": "python",
   "nbconvert_exporter": "python",
   "pygments_lexer": "ipython3",
   "version": "3.8.3"
  }
 },
 "nbformat": 4,
 "nbformat_minor": 4
}
